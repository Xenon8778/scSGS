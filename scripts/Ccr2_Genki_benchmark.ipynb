{
 "cells": [
  {
   "cell_type": "code",
   "execution_count": 1,
   "metadata": {},
   "outputs": [],
   "source": [
    "import os\n",
    "import numpy as np\n",
    "import pandas as pd\n",
    "import matplotlib.pyplot as plt\n",
    "import scanpy as sc\n",
    "from scipy import sparse\n",
    "\n",
    "sc.settings.verbosity = 1"
   ]
  },
  {
   "cell_type": "code",
   "execution_count": 2,
   "metadata": {},
   "outputs": [],
   "source": [
    "from GenKI_SGS.preprocesing import build_adata\n",
    "from GenKI_SGS.dataLoader import DataLoader\n",
    "from GenKI_SGS.train import VGAE_trainer\n",
    "from GenKI_SGS import utils\n",
    "\n",
    "%load_ext autoreload\n",
    "%autoreload 2"
   ]
  },
  {
   "cell_type": "markdown",
   "metadata": {},
   "source": [
    "## Load Data - 1000 Genes, 500 Cells"
   ]
  },
  {
   "cell_type": "code",
   "execution_count": 4,
   "metadata": {},
   "outputs": [
    {
     "name": "stderr",
     "output_type": "stream",
     "text": [
      "c:\\Users\\xenon8778\\Miniconda3\\envs\\ogenki\\lib\\site-packages\\scanpy\\preprocessing\\_normalization.py:197: UserWarning: Some cells have zero counts\n",
      "  warn(UserWarning('Some cells have zero counts'))\n"
     ]
    },
    {
     "data": {
      "text/plain": [
       "AnnData object with n_obs × n_vars = 500 × 387\n",
       "    obs: 'orig.ident', 'nCount_RNA', 'nFeature_RNA', 'cluster', 'sample', 'percent.mt', 'RNA_snn_res.0.8', 'seurat_clusters', 'celltype', 'Batches'\n",
       "    var: 'vst.mean', 'vst.variance', 'vst.variance.expected', 'vst.variance.standardized', 'vst.variable', 'mean', 'std'\n",
       "    obsm: 'X_pca', 'X_umap'\n",
       "    varm: 'PCs'\n",
       "    layers: 'counts', 'norm'"
      ]
     },
     "execution_count": 4,
     "metadata": {},
     "output_type": "execute_result"
    }
   ],
   "source": [
    "# Read Data\n",
    "adata = sc.read_h5ad('Results/Bench/so_1000_500.h5ad') \n",
    "adata.layers[\"counts\"] = adata.X\n",
    "sc.pp.normalize_total(adata)\n",
    "adata.layers[\"norm\"] = adata.X\n",
    "sc.pp.scale(adata)\n",
    "adata.X = sparse.csr_matrix(adata.X)\n",
    "adata"
   ]
  },
  {
   "cell_type": "code",
   "execution_count": 5,
   "metadata": {},
   "outputs": [
    {
     "name": "stdout",
     "output_type": "stream",
     "text": [
      "use all the cells (500) in adata\n",
      "build GRN\n"
     ]
    },
    {
     "name": "stderr",
     "output_type": "stream",
     "text": [
      "2024-03-28 10:53:55,269\tINFO worker.py:1636 -- Started a local Ray instance.\n"
     ]
    },
    {
     "name": "stdout",
     "output_type": "stream",
     "text": [
      "ray init, using 8 CPUs\n",
      "execution time of making pcNet: 20.20 s\n",
      "GRN has been built and saved in \"GRNs\\so_1000_500.npz\"\n",
      "init completed\n",
      "\n",
      "Initiating Training\n",
      "(387,)\n",
      "use all the cells (500) in adata\n",
      "build GRN\n"
     ]
    },
    {
     "name": "stderr",
     "output_type": "stream",
     "text": [
      "2024-03-28 10:54:16,369\tINFO worker.py:1636 -- Started a local Ray instance.\n"
     ]
    },
    {
     "name": "stdout",
     "output_type": "stream",
     "text": [
      "ray init, using 8 CPUs\n",
      "execution time of making pcNet: 19.09 s\n",
      "GRN has been built and saved in \"GRNs\\so_1000_500.npz\"\n",
      "init completed\n",
      "\n",
      "Initiating Training\n",
      "(387,)\n",
      "use all the cells (500) in adata\n",
      "build GRN\n"
     ]
    },
    {
     "name": "stderr",
     "output_type": "stream",
     "text": [
      "2024-03-28 10:54:37,458\tINFO worker.py:1636 -- Started a local Ray instance.\n"
     ]
    },
    {
     "name": "stdout",
     "output_type": "stream",
     "text": [
      "ray init, using 8 CPUs\n",
      "execution time of making pcNet: 19.21 s\n",
      "GRN has been built and saved in \"GRNs\\so_1000_500.npz\"\n",
      "init completed\n",
      "\n",
      "Initiating Training\n",
      "(387,)\n",
      "use all the cells (500) in adata\n",
      "build GRN\n"
     ]
    },
    {
     "name": "stderr",
     "output_type": "stream",
     "text": [
      "2024-03-28 10:54:58,270\tINFO worker.py:1636 -- Started a local Ray instance.\n"
     ]
    },
    {
     "name": "stdout",
     "output_type": "stream",
     "text": [
      "ray init, using 8 CPUs\n",
      "execution time of making pcNet: 19.06 s\n",
      "GRN has been built and saved in \"GRNs\\so_1000_500.npz\"\n",
      "init completed\n",
      "\n",
      "Initiating Training\n",
      "(387,)\n",
      "use all the cells (500) in adata\n",
      "build GRN\n"
     ]
    },
    {
     "name": "stderr",
     "output_type": "stream",
     "text": [
      "2024-03-28 10:55:19,122\tINFO worker.py:1636 -- Started a local Ray instance.\n"
     ]
    },
    {
     "name": "stdout",
     "output_type": "stream",
     "text": [
      "ray init, using 8 CPUs\n",
      "execution time of making pcNet: 18.99 s\n",
      "GRN has been built and saved in \"GRNs\\so_1000_500.npz\"\n",
      "init completed\n",
      "\n",
      "Initiating Training\n",
      "(387,)\n",
      "use all the cells (500) in adata\n",
      "build GRN\n"
     ]
    },
    {
     "name": "stderr",
     "output_type": "stream",
     "text": [
      "2024-03-28 10:55:39,916\tINFO worker.py:1636 -- Started a local Ray instance.\n"
     ]
    },
    {
     "name": "stdout",
     "output_type": "stream",
     "text": [
      "ray init, using 8 CPUs\n",
      "execution time of making pcNet: 18.13 s\n",
      "GRN has been built and saved in \"GRNs\\so_1000_500.npz\"\n",
      "init completed\n",
      "\n",
      "Initiating Training\n",
      "(387,)\n",
      "20.7 s ± 398 ms per loop (mean ± std. dev. of 5 runs, 1 loop each)\n"
     ]
    }
   ],
   "source": [
    "%%timeit -r 5\n",
    "# load data\n",
    "\n",
    "data_wrapper =  DataLoader(\n",
    "                adata, # adata object\n",
    "                target_gene = [\"Ccr2\"], # KO gene name\n",
    "                target_cell = None, # obsname for cell type, if none use all\n",
    "                obs_label = \"ident\", # colname for genes\n",
    "                GRN_file_dir = \"GRNs\", # folder name for GRNs\n",
    "                rebuild_GRN = True, # whether build GRN by pcNet\n",
    "                pcNet_name = \"so_1000_500\", # GRN file name\n",
    "                verbose = True, # whether verbose\n",
    "                n_cpus = 8, # multiprocessing\n",
    "                )\n",
    "\n",
    "data_wt = data_wrapper.load_data()\n",
    "data_ko = data_wrapper.load_kodata()\n",
    "\n",
    "# init trainer\n",
    "\n",
    "hyperparams = {\"epochs\": 100, \n",
    "            \"lr\": 7e-4, \n",
    "            \"beta\": 1e-4, \n",
    "            \"seed\": 8096}\n",
    "log_dir=None \n",
    "\n",
    "sensei = VGAE_trainer(data_wt, \n",
    "                    epochs=hyperparams[\"epochs\"], \n",
    "                    lr=hyperparams[\"lr\"], \n",
    "                    log_dir=log_dir, \n",
    "                    beta=hyperparams[\"beta\"],\n",
    "                    seed=hyperparams[\"seed\"],\n",
    "                    verbose=False,\n",
    "                    )\n",
    "print('Initiating Training')\n",
    "sensei.train()\n",
    "\n",
    "# get distance between wt and ko\n",
    "\n",
    "z_mu_wt, z_std_wt = sensei.get_latent_vars(data_wt)\n",
    "z_mu_ko, z_std_ko = sensei.get_latent_vars(data_ko)\n",
    "dis = utils.get_distance(z_mu_ko, z_std_ko, z_mu_wt, z_std_wt, by=\"KL\")\n",
    "print(dis.shape)"
   ]
  },
  {
   "cell_type": "code",
   "execution_count": 7,
   "metadata": {},
   "outputs": [
    {
     "name": "stdout",
     "output_type": "stream",
     "text": [
      "use all the cells (500) in adata\n",
      "build GRN\n"
     ]
    },
    {
     "name": "stderr",
     "output_type": "stream",
     "text": [
      "2024-03-28 12:03:08,368\tINFO worker.py:1636 -- Started a local Ray instance.\n"
     ]
    },
    {
     "name": "stdout",
     "output_type": "stream",
     "text": [
      "ray init, using 8 CPUs\n",
      "execution time of making pcNet: 19.35 s\n",
      "GRN has been built and saved in \"GRNs\\so_1000_500.npz\"\n",
      "init completed\n",
      "\n",
      "Initiating Training\n",
      "(387,)\n"
     ]
    },
    {
     "data": {
      "text/html": [
       "<div>\n",
       "<style scoped>\n",
       "    .dataframe tbody tr th:only-of-type {\n",
       "        vertical-align: middle;\n",
       "    }\n",
       "\n",
       "    .dataframe tbody tr th {\n",
       "        vertical-align: top;\n",
       "    }\n",
       "\n",
       "    .dataframe thead th {\n",
       "        text-align: right;\n",
       "    }\n",
       "</style>\n",
       "<table border=\"1\" class=\"dataframe\">\n",
       "  <thead>\n",
       "    <tr style=\"text-align: right;\">\n",
       "      <th></th>\n",
       "      <th>dis</th>\n",
       "      <th>rank</th>\n",
       "    </tr>\n",
       "  </thead>\n",
       "  <tbody>\n",
       "    <tr>\n",
       "      <th>Ccr2</th>\n",
       "      <td>0.061900</td>\n",
       "      <td>1</td>\n",
       "    </tr>\n",
       "    <tr>\n",
       "      <th>Gapdh</th>\n",
       "      <td>0.000202</td>\n",
       "      <td>2</td>\n",
       "    </tr>\n",
       "    <tr>\n",
       "      <th>Tmem37</th>\n",
       "      <td>0.000191</td>\n",
       "      <td>3</td>\n",
       "    </tr>\n",
       "    <tr>\n",
       "      <th>Dpep2</th>\n",
       "      <td>0.000186</td>\n",
       "      <td>4</td>\n",
       "    </tr>\n",
       "    <tr>\n",
       "      <th>Cebpa</th>\n",
       "      <td>0.000181</td>\n",
       "      <td>5</td>\n",
       "    </tr>\n",
       "    <tr>\n",
       "      <th>Cxcl10</th>\n",
       "      <td>0.000169</td>\n",
       "      <td>6</td>\n",
       "    </tr>\n",
       "    <tr>\n",
       "      <th>Clec4n</th>\n",
       "      <td>0.000169</td>\n",
       "      <td>7</td>\n",
       "    </tr>\n",
       "    <tr>\n",
       "      <th>Calr</th>\n",
       "      <td>0.000159</td>\n",
       "      <td>8</td>\n",
       "    </tr>\n",
       "    <tr>\n",
       "      <th>Chil3</th>\n",
       "      <td>0.000157</td>\n",
       "      <td>9</td>\n",
       "    </tr>\n",
       "    <tr>\n",
       "      <th>Ifit3b</th>\n",
       "      <td>0.000155</td>\n",
       "      <td>10</td>\n",
       "    </tr>\n",
       "    <tr>\n",
       "      <th>Btg2</th>\n",
       "      <td>0.000148</td>\n",
       "      <td>11</td>\n",
       "    </tr>\n",
       "    <tr>\n",
       "      <th>Gm10116</th>\n",
       "      <td>0.000147</td>\n",
       "      <td>12</td>\n",
       "    </tr>\n",
       "    <tr>\n",
       "      <th>Spp1</th>\n",
       "      <td>0.000147</td>\n",
       "      <td>13</td>\n",
       "    </tr>\n",
       "    <tr>\n",
       "      <th>Pim1</th>\n",
       "      <td>0.000143</td>\n",
       "      <td>14</td>\n",
       "    </tr>\n",
       "    <tr>\n",
       "      <th>Cx3cr1</th>\n",
       "      <td>0.000142</td>\n",
       "      <td>15</td>\n",
       "    </tr>\n",
       "    <tr>\n",
       "      <th>Marcks</th>\n",
       "      <td>0.000134</td>\n",
       "      <td>16</td>\n",
       "    </tr>\n",
       "    <tr>\n",
       "      <th>Bcl2a1b</th>\n",
       "      <td>0.000133</td>\n",
       "      <td>17</td>\n",
       "    </tr>\n",
       "    <tr>\n",
       "      <th>Cd40</th>\n",
       "      <td>0.000130</td>\n",
       "      <td>18</td>\n",
       "    </tr>\n",
       "    <tr>\n",
       "      <th>AA467197</th>\n",
       "      <td>0.000129</td>\n",
       "      <td>19</td>\n",
       "    </tr>\n",
       "    <tr>\n",
       "      <th>Ctsl</th>\n",
       "      <td>0.000127</td>\n",
       "      <td>20</td>\n",
       "    </tr>\n",
       "  </tbody>\n",
       "</table>\n",
       "</div>"
      ],
      "text/plain": [
       "               dis  rank\n",
       "Ccr2      0.061900     1\n",
       "Gapdh     0.000202     2\n",
       "Tmem37    0.000191     3\n",
       "Dpep2     0.000186     4\n",
       "Cebpa     0.000181     5\n",
       "Cxcl10    0.000169     6\n",
       "Clec4n    0.000169     7\n",
       "Calr      0.000159     8\n",
       "Chil3     0.000157     9\n",
       "Ifit3b    0.000155    10\n",
       "Btg2      0.000148    11\n",
       "Gm10116   0.000147    12\n",
       "Spp1      0.000147    13\n",
       "Pim1      0.000143    14\n",
       "Cx3cr1    0.000142    15\n",
       "Marcks    0.000134    16\n",
       "Bcl2a1b   0.000133    17\n",
       "Cd40      0.000130    18\n",
       "AA467197  0.000129    19\n",
       "Ctsl      0.000127    20"
      ]
     },
     "execution_count": 7,
     "metadata": {},
     "output_type": "execute_result"
    }
   ],
   "source": [
    "# raw ranked gene list\n",
    "\n",
    "data_wrapper =  DataLoader(\n",
    "                adata, # adata object\n",
    "                target_gene = [\"Ccr2\"], # KO gene name\n",
    "                target_cell = None, # obsname for cell type, if none use all\n",
    "                obs_label = \"ident\", # colname for genes\n",
    "                GRN_file_dir = \"GRNs\", # folder name for GRNs\n",
    "                rebuild_GRN = True, # whether build GRN by pcNet\n",
    "                pcNet_name = \"so_1000_500\", # GRN file name\n",
    "                verbose = True, # whether verbose\n",
    "                n_cpus = 8, # multiprocessing\n",
    "                )\n",
    "\n",
    "data_wt = data_wrapper.load_data()\n",
    "data_ko = data_wrapper.load_kodata()\n",
    "\n",
    "# init trainer\n",
    "\n",
    "hyperparams = {\"epochs\": 100, \n",
    "            \"lr\": 7e-4, \n",
    "            \"beta\": 1e-4, \n",
    "            \"seed\": 8096}\n",
    "log_dir=None \n",
    "\n",
    "sensei = VGAE_trainer(data_wt, \n",
    "                    epochs=hyperparams[\"epochs\"], \n",
    "                    lr=hyperparams[\"lr\"], \n",
    "                    log_dir=log_dir, \n",
    "                    beta=hyperparams[\"beta\"],\n",
    "                    seed=hyperparams[\"seed\"],\n",
    "                    verbose=False,\n",
    "                    )\n",
    "print('Initiating Training')\n",
    "sensei.train()\n",
    "\n",
    "# get distance between wt and ko\n",
    "\n",
    "z_mu_wt, z_std_wt = sensei.get_latent_vars(data_wt)\n",
    "z_mu_ko, z_std_ko = sensei.get_latent_vars(data_ko)\n",
    "dis = utils.get_distance(z_mu_ko, z_std_ko, z_mu_wt, z_std_wt, by=\"KL\")\n",
    "print(dis.shape)\n",
    "\n",
    "res_raw = utils.get_generank(data_wt, dis, rank=True)\n",
    "res_raw.to_csv('Results/Bench/GenKI_res_1000_500.csv')\n",
    "res_raw.head(20)"
   ]
  },
  {
   "cell_type": "markdown",
   "metadata": {},
   "source": [
    "## Load Data - 1000 Genes, 1000 Cells"
   ]
  },
  {
   "cell_type": "code",
   "execution_count": 3,
   "metadata": {},
   "outputs": [
    {
     "name": "stderr",
     "output_type": "stream",
     "text": [
      "c:\\Users\\xenon8778\\Miniconda3\\envs\\ogenki\\lib\\site-packages\\scanpy\\preprocessing\\_normalization.py:197: UserWarning: Some cells have zero counts\n",
      "  warn(UserWarning('Some cells have zero counts'))\n"
     ]
    },
    {
     "data": {
      "text/plain": [
       "AnnData object with n_obs × n_vars = 1000 × 387\n",
       "    obs: 'orig.ident', 'nCount_RNA', 'nFeature_RNA', 'cluster', 'sample', 'percent.mt', 'RNA_snn_res.0.8', 'seurat_clusters', 'celltype', 'Batches'\n",
       "    var: 'vst.mean', 'vst.variance', 'vst.variance.expected', 'vst.variance.standardized', 'vst.variable', 'mean', 'std'\n",
       "    obsm: 'X_pca', 'X_umap'\n",
       "    varm: 'PCs'\n",
       "    layers: 'counts', 'norm'"
      ]
     },
     "execution_count": 3,
     "metadata": {},
     "output_type": "execute_result"
    }
   ],
   "source": [
    "# Read Data\n",
    "adata = sc.read_h5ad('Results/Bench/so_1000_1000.h5ad') \n",
    "adata.layers[\"counts\"] = adata.X\n",
    "sc.pp.normalize_total(adata)\n",
    "adata.layers[\"norm\"] = adata.X\n",
    "sc.pp.scale(adata)\n",
    "adata.X = sparse.csr_matrix(adata.X)\n",
    "adata"
   ]
  },
  {
   "cell_type": "code",
   "execution_count": 4,
   "metadata": {},
   "outputs": [
    {
     "name": "stdout",
     "output_type": "stream",
     "text": [
      "use all the cells (1000) in adata\n",
      "build GRN\n"
     ]
    },
    {
     "name": "stderr",
     "output_type": "stream",
     "text": [
      "2024-03-28 12:15:02,464\tINFO worker.py:1636 -- Started a local Ray instance.\n"
     ]
    },
    {
     "name": "stdout",
     "output_type": "stream",
     "text": [
      "ray init, using 8 CPUs\n",
      "execution time of making pcNet: 25.69 s\n",
      "GRN has been built and saved in \"GRNs\\so_1000_1000.npz\"\n",
      "init completed\n",
      "\n",
      "Initiating Training\n",
      "(387,)\n",
      "use all the cells (1000) in adata\n",
      "build GRN\n"
     ]
    },
    {
     "name": "stderr",
     "output_type": "stream",
     "text": [
      "2024-03-28 12:15:30,117\tINFO worker.py:1636 -- Started a local Ray instance.\n"
     ]
    },
    {
     "name": "stdout",
     "output_type": "stream",
     "text": [
      "ray init, using 8 CPUs\n",
      "execution time of making pcNet: 25.24 s\n",
      "GRN has been built and saved in \"GRNs\\so_1000_1000.npz\"\n",
      "init completed\n",
      "\n",
      "Initiating Training\n",
      "(387,)\n",
      "use all the cells (1000) in adata\n",
      "build GRN\n"
     ]
    },
    {
     "name": "stderr",
     "output_type": "stream",
     "text": [
      "2024-03-28 12:15:57,408\tINFO worker.py:1636 -- Started a local Ray instance.\n"
     ]
    },
    {
     "name": "stdout",
     "output_type": "stream",
     "text": [
      "ray init, using 8 CPUs\n",
      "execution time of making pcNet: 25.33 s\n",
      "GRN has been built and saved in \"GRNs\\so_1000_1000.npz\"\n",
      "init completed\n",
      "\n",
      "Initiating Training\n",
      "(387,)\n",
      "use all the cells (1000) in adata\n",
      "build GRN\n"
     ]
    },
    {
     "name": "stderr",
     "output_type": "stream",
     "text": [
      "2024-03-28 12:16:24,737\tINFO worker.py:1636 -- Started a local Ray instance.\n"
     ]
    },
    {
     "name": "stdout",
     "output_type": "stream",
     "text": [
      "ray init, using 8 CPUs\n",
      "execution time of making pcNet: 24.47 s\n",
      "GRN has been built and saved in \"GRNs\\so_1000_1000.npz\"\n",
      "init completed\n",
      "\n",
      "Initiating Training\n",
      "(387,)\n",
      "use all the cells (1000) in adata\n",
      "build GRN\n"
     ]
    },
    {
     "name": "stderr",
     "output_type": "stream",
     "text": [
      "2024-03-28 12:16:50,979\tINFO worker.py:1636 -- Started a local Ray instance.\n"
     ]
    },
    {
     "name": "stdout",
     "output_type": "stream",
     "text": [
      "ray init, using 8 CPUs\n",
      "execution time of making pcNet: 25.08 s\n",
      "GRN has been built and saved in \"GRNs\\so_1000_1000.npz\"\n",
      "init completed\n",
      "\n",
      "Initiating Training\n",
      "(387,)\n",
      "use all the cells (1000) in adata\n",
      "build GRN\n"
     ]
    },
    {
     "name": "stderr",
     "output_type": "stream",
     "text": [
      "2024-03-28 12:17:18,057\tINFO worker.py:1636 -- Started a local Ray instance.\n"
     ]
    },
    {
     "name": "stdout",
     "output_type": "stream",
     "text": [
      "ray init, using 8 CPUs\n",
      "execution time of making pcNet: 27.46 s\n",
      "GRN has been built and saved in \"GRNs\\so_1000_1000.npz\"\n",
      "init completed\n",
      "\n",
      "Initiating Training\n",
      "(387,)\n",
      "27.5 s ± 1.06 s per loop (mean ± std. dev. of 5 runs, 1 loop each)\n"
     ]
    }
   ],
   "source": [
    "%%timeit -r 5\n",
    "# load data\n",
    "\n",
    "data_wrapper =  DataLoader(\n",
    "                adata, # adata object\n",
    "                target_gene = [\"Ccr2\"], # KO gene name\n",
    "                target_cell = None, # obsname for cell type, if none use all\n",
    "                obs_label = \"ident\", # colname for genes\n",
    "                GRN_file_dir = \"GRNs\", # folder name for GRNs\n",
    "                rebuild_GRN = True, # whether build GRN by pcNet\n",
    "                pcNet_name = \"so_1000_1000\", # GRN file name\n",
    "                verbose = True, # whether verbose\n",
    "                n_cpus = 8, # multiprocessing\n",
    "                )\n",
    "\n",
    "data_wt = data_wrapper.load_data()\n",
    "data_ko = data_wrapper.load_kodata()\n",
    "\n",
    "# init trainer\n",
    "\n",
    "hyperparams = {\"epochs\": 100, \n",
    "            \"lr\": 7e-4, \n",
    "            \"beta\": 1e-4, \n",
    "            \"seed\": 8096}\n",
    "log_dir=None \n",
    "\n",
    "sensei = VGAE_trainer(data_wt, \n",
    "                    epochs=hyperparams[\"epochs\"], \n",
    "                    lr=hyperparams[\"lr\"], \n",
    "                    log_dir=log_dir, \n",
    "                    beta=hyperparams[\"beta\"],\n",
    "                    seed=hyperparams[\"seed\"],\n",
    "                    verbose=False,\n",
    "                    )\n",
    "print('Initiating Training')\n",
    "sensei.train()\n",
    "\n",
    "# get distance between wt and ko\n",
    "\n",
    "z_mu_wt, z_std_wt = sensei.get_latent_vars(data_wt)\n",
    "z_mu_ko, z_std_ko = sensei.get_latent_vars(data_ko)\n",
    "dis = utils.get_distance(z_mu_ko, z_std_ko, z_mu_wt, z_std_wt, by=\"KL\")\n",
    "print(dis.shape)"
   ]
  },
  {
   "cell_type": "code",
   "execution_count": 5,
   "metadata": {},
   "outputs": [
    {
     "name": "stdout",
     "output_type": "stream",
     "text": [
      "use all the cells (1000) in adata\n",
      "build GRN\n"
     ]
    },
    {
     "name": "stderr",
     "output_type": "stream",
     "text": [
      "2024-03-28 12:21:20,275\tINFO worker.py:1636 -- Started a local Ray instance.\n"
     ]
    },
    {
     "name": "stdout",
     "output_type": "stream",
     "text": [
      "ray init, using 8 CPUs\n",
      "execution time of making pcNet: 27.14 s\n",
      "GRN has been built and saved in \"GRNs\\so_1000_1000.npz\"\n",
      "init completed\n",
      "\n",
      "Initiating Training\n",
      "(387,)\n"
     ]
    },
    {
     "data": {
      "text/html": [
       "<div>\n",
       "<style scoped>\n",
       "    .dataframe tbody tr th:only-of-type {\n",
       "        vertical-align: middle;\n",
       "    }\n",
       "\n",
       "    .dataframe tbody tr th {\n",
       "        vertical-align: top;\n",
       "    }\n",
       "\n",
       "    .dataframe thead th {\n",
       "        text-align: right;\n",
       "    }\n",
       "</style>\n",
       "<table border=\"1\" class=\"dataframe\">\n",
       "  <thead>\n",
       "    <tr style=\"text-align: right;\">\n",
       "      <th></th>\n",
       "      <th>dis</th>\n",
       "      <th>rank</th>\n",
       "    </tr>\n",
       "  </thead>\n",
       "  <tbody>\n",
       "    <tr>\n",
       "      <th>Ccr2</th>\n",
       "      <td>1.546506</td>\n",
       "      <td>1</td>\n",
       "    </tr>\n",
       "    <tr>\n",
       "      <th>Cd9</th>\n",
       "      <td>0.000199</td>\n",
       "      <td>2</td>\n",
       "    </tr>\n",
       "    <tr>\n",
       "      <th>Ccl7</th>\n",
       "      <td>0.000199</td>\n",
       "      <td>3</td>\n",
       "    </tr>\n",
       "    <tr>\n",
       "      <th>Ecm1</th>\n",
       "      <td>0.000198</td>\n",
       "      <td>4</td>\n",
       "    </tr>\n",
       "    <tr>\n",
       "      <th>Timp1</th>\n",
       "      <td>0.000198</td>\n",
       "      <td>5</td>\n",
       "    </tr>\n",
       "    <tr>\n",
       "      <th>Tppp3</th>\n",
       "      <td>0.000198</td>\n",
       "      <td>6</td>\n",
       "    </tr>\n",
       "    <tr>\n",
       "      <th>Ly6c2</th>\n",
       "      <td>0.000195</td>\n",
       "      <td>7</td>\n",
       "    </tr>\n",
       "    <tr>\n",
       "      <th>Thbs1</th>\n",
       "      <td>0.000189</td>\n",
       "      <td>8</td>\n",
       "    </tr>\n",
       "    <tr>\n",
       "      <th>Cxcl2</th>\n",
       "      <td>0.000189</td>\n",
       "      <td>9</td>\n",
       "    </tr>\n",
       "    <tr>\n",
       "      <th>Ankrd37</th>\n",
       "      <td>0.000189</td>\n",
       "      <td>10</td>\n",
       "    </tr>\n",
       "    <tr>\n",
       "      <th>Pf4</th>\n",
       "      <td>0.000189</td>\n",
       "      <td>11</td>\n",
       "    </tr>\n",
       "    <tr>\n",
       "      <th>Crem</th>\n",
       "      <td>0.000189</td>\n",
       "      <td>12</td>\n",
       "    </tr>\n",
       "    <tr>\n",
       "      <th>Tnfrsf4</th>\n",
       "      <td>0.000189</td>\n",
       "      <td>13</td>\n",
       "    </tr>\n",
       "    <tr>\n",
       "      <th>Syngr1</th>\n",
       "      <td>0.000189</td>\n",
       "      <td>14</td>\n",
       "    </tr>\n",
       "    <tr>\n",
       "      <th>Fam162a</th>\n",
       "      <td>0.000189</td>\n",
       "      <td>15</td>\n",
       "    </tr>\n",
       "    <tr>\n",
       "      <th>Socs1</th>\n",
       "      <td>0.000189</td>\n",
       "      <td>16</td>\n",
       "    </tr>\n",
       "    <tr>\n",
       "      <th>Trbc2</th>\n",
       "      <td>0.000189</td>\n",
       "      <td>17</td>\n",
       "    </tr>\n",
       "    <tr>\n",
       "      <th>Gpnmb</th>\n",
       "      <td>0.000189</td>\n",
       "      <td>18</td>\n",
       "    </tr>\n",
       "    <tr>\n",
       "      <th>Hspa1a</th>\n",
       "      <td>0.000189</td>\n",
       "      <td>19</td>\n",
       "    </tr>\n",
       "    <tr>\n",
       "      <th>Id3</th>\n",
       "      <td>0.000188</td>\n",
       "      <td>20</td>\n",
       "    </tr>\n",
       "  </tbody>\n",
       "</table>\n",
       "</div>"
      ],
      "text/plain": [
       "              dis  rank\n",
       "Ccr2     1.546506     1\n",
       "Cd9      0.000199     2\n",
       "Ccl7     0.000199     3\n",
       "Ecm1     0.000198     4\n",
       "Timp1    0.000198     5\n",
       "Tppp3    0.000198     6\n",
       "Ly6c2    0.000195     7\n",
       "Thbs1    0.000189     8\n",
       "Cxcl2    0.000189     9\n",
       "Ankrd37  0.000189    10\n",
       "Pf4      0.000189    11\n",
       "Crem     0.000189    12\n",
       "Tnfrsf4  0.000189    13\n",
       "Syngr1   0.000189    14\n",
       "Fam162a  0.000189    15\n",
       "Socs1    0.000189    16\n",
       "Trbc2    0.000189    17\n",
       "Gpnmb    0.000189    18\n",
       "Hspa1a   0.000189    19\n",
       "Id3      0.000188    20"
      ]
     },
     "execution_count": 5,
     "metadata": {},
     "output_type": "execute_result"
    }
   ],
   "source": [
    "# raw ranked gene list\n",
    "\n",
    "data_wrapper =  DataLoader(\n",
    "                adata, # adata object\n",
    "                target_gene = [\"Ccr2\"], # KO gene name\n",
    "                target_cell = None, # obsname for cell type, if none use all\n",
    "                obs_label = \"ident\", # colname for genes\n",
    "                GRN_file_dir = \"GRNs\", # folder name for GRNs\n",
    "                rebuild_GRN = True, # whether build GRN by pcNet\n",
    "                pcNet_name = \"so_1000_1000\", # GRN file name\n",
    "                verbose = True, # whether verbose\n",
    "                n_cpus = 8, # multiprocessing\n",
    "                )\n",
    "\n",
    "data_wt = data_wrapper.load_data()\n",
    "data_ko = data_wrapper.load_kodata()\n",
    "\n",
    "# init trainer\n",
    "\n",
    "hyperparams = {\"epochs\": 100, \n",
    "            \"lr\": 7e-4, \n",
    "            \"beta\": 1e-4, \n",
    "            \"seed\": 8096}\n",
    "log_dir=None \n",
    "\n",
    "sensei = VGAE_trainer(data_wt, \n",
    "                    epochs=hyperparams[\"epochs\"], \n",
    "                    lr=hyperparams[\"lr\"], \n",
    "                    log_dir=log_dir, \n",
    "                    beta=hyperparams[\"beta\"],\n",
    "                    seed=hyperparams[\"seed\"],\n",
    "                    verbose=False,\n",
    "                    )\n",
    "print('Initiating Training')\n",
    "sensei.train()\n",
    "\n",
    "# get distance between wt and ko\n",
    "\n",
    "z_mu_wt, z_std_wt = sensei.get_latent_vars(data_wt)\n",
    "z_mu_ko, z_std_ko = sensei.get_latent_vars(data_ko)\n",
    "dis = utils.get_distance(z_mu_ko, z_std_ko, z_mu_wt, z_std_wt, by=\"KL\")\n",
    "print(dis.shape)\n",
    "\n",
    "res_raw = utils.get_generank(data_wt, dis, rank=True)\n",
    "res_raw.to_csv('Results/Bench/GenKI_res_1000_1000.csv')\n",
    "res_raw.head(20)"
   ]
  },
  {
   "cell_type": "markdown",
   "metadata": {},
   "source": [
    "## Load Data - 3000 Genes, 1000 Cells"
   ]
  },
  {
   "cell_type": "code",
   "execution_count": 3,
   "metadata": {},
   "outputs": [
    {
     "name": "stderr",
     "output_type": "stream",
     "text": [
      "c:\\Users\\xenon8778\\Miniconda3\\envs\\ogenki\\lib\\site-packages\\scanpy\\preprocessing\\_normalization.py:197: UserWarning: Some cells have zero counts\n",
      "  warn(UserWarning('Some cells have zero counts'))\n"
     ]
    },
    {
     "data": {
      "text/plain": [
       "AnnData object with n_obs × n_vars = 1000 × 730\n",
       "    obs: 'orig.ident', 'nCount_RNA', 'nFeature_RNA', 'cluster', 'sample', 'percent.mt', 'RNA_snn_res.0.8', 'seurat_clusters', 'celltype', 'Batches'\n",
       "    var: 'vst.mean', 'vst.variance', 'vst.variance.expected', 'vst.variance.standardized', 'vst.variable', 'mean', 'std'\n",
       "    obsm: 'X_pca', 'X_umap'\n",
       "    varm: 'PCs'\n",
       "    layers: 'counts', 'norm'"
      ]
     },
     "execution_count": 3,
     "metadata": {},
     "output_type": "execute_result"
    }
   ],
   "source": [
    "# Read Data\n",
    "adata = sc.read_h5ad('Results/Bench/so_3000_1000.h5ad') \n",
    "adata.layers[\"counts\"] = adata.X\n",
    "sc.pp.normalize_total(adata)\n",
    "adata.layers[\"norm\"] = adata.X\n",
    "sc.pp.scale(adata)\n",
    "adata.X = sparse.csr_matrix(adata.X)\n",
    "adata"
   ]
  },
  {
   "cell_type": "code",
   "execution_count": 4,
   "metadata": {},
   "outputs": [
    {
     "name": "stdout",
     "output_type": "stream",
     "text": [
      "use all the cells (1000) in adata\n",
      "build GRN\n"
     ]
    },
    {
     "name": "stderr",
     "output_type": "stream",
     "text": [
      "2024-03-28 12:22:53,076\tINFO worker.py:1636 -- Started a local Ray instance.\n"
     ]
    },
    {
     "name": "stdout",
     "output_type": "stream",
     "text": [
      "ray init, using 8 CPUs\n",
      "execution time of making pcNet: 122.78 s\n",
      "GRN has been built and saved in \"GRNs\\so_3000_1000.npz\"\n",
      "init completed\n",
      "\n",
      "Initiating Training\n",
      "(730,)\n",
      "use all the cells (1000) in adata\n",
      "build GRN\n"
     ]
    },
    {
     "name": "stderr",
     "output_type": "stream",
     "text": [
      "2024-03-28 12:25:00,524\tINFO worker.py:1636 -- Started a local Ray instance.\n"
     ]
    },
    {
     "name": "stdout",
     "output_type": "stream",
     "text": [
      "ray init, using 8 CPUs\n",
      "execution time of making pcNet: 123.59 s\n",
      "GRN has been built and saved in \"GRNs\\so_3000_1000.npz\"\n",
      "init completed\n",
      "\n",
      "Initiating Training\n",
      "(730,)\n",
      "use all the cells (1000) in adata\n",
      "build GRN\n"
     ]
    },
    {
     "name": "stderr",
     "output_type": "stream",
     "text": [
      "2024-03-28 12:27:08,722\tINFO worker.py:1636 -- Started a local Ray instance.\n"
     ]
    },
    {
     "name": "stdout",
     "output_type": "stream",
     "text": [
      "ray init, using 8 CPUs\n",
      "execution time of making pcNet: 121.49 s\n",
      "GRN has been built and saved in \"GRNs\\so_3000_1000.npz\"\n",
      "init completed\n",
      "\n",
      "Initiating Training\n",
      "(730,)\n",
      "use all the cells (1000) in adata\n",
      "build GRN\n"
     ]
    },
    {
     "name": "stderr",
     "output_type": "stream",
     "text": [
      "2024-03-28 12:29:15,022\tINFO worker.py:1636 -- Started a local Ray instance.\n"
     ]
    },
    {
     "name": "stdout",
     "output_type": "stream",
     "text": [
      "ray init, using 8 CPUs\n",
      "execution time of making pcNet: 120.59 s\n",
      "GRN has been built and saved in \"GRNs\\so_3000_1000.npz\"\n",
      "init completed\n",
      "\n",
      "Initiating Training\n",
      "(730,)\n",
      "use all the cells (1000) in adata\n",
      "build GRN\n"
     ]
    },
    {
     "name": "stderr",
     "output_type": "stream",
     "text": [
      "2024-03-28 12:31:20,617\tINFO worker.py:1636 -- Started a local Ray instance.\n"
     ]
    },
    {
     "name": "stdout",
     "output_type": "stream",
     "text": [
      "ray init, using 8 CPUs\n",
      "execution time of making pcNet: 126.18 s\n",
      "GRN has been built and saved in \"GRNs\\so_3000_1000.npz\"\n",
      "init completed\n",
      "\n",
      "Initiating Training\n",
      "(730,)\n",
      "use all the cells (1000) in adata\n",
      "build GRN\n"
     ]
    },
    {
     "name": "stderr",
     "output_type": "stream",
     "text": [
      "2024-03-28 12:33:31,902\tINFO worker.py:1636 -- Started a local Ray instance.\n"
     ]
    },
    {
     "name": "stdout",
     "output_type": "stream",
     "text": [
      "ray init, using 8 CPUs\n",
      "execution time of making pcNet: 118.46 s\n",
      "GRN has been built and saved in \"GRNs\\so_3000_1000.npz\"\n",
      "init completed\n",
      "\n",
      "Initiating Training\n",
      "(730,)\n",
      "2min 6s ± 2.82 s per loop (mean ± std. dev. of 5 runs, 1 loop each)\n"
     ]
    }
   ],
   "source": [
    "%%timeit -r 5\n",
    "# load data\n",
    "\n",
    "data_wrapper =  DataLoader(\n",
    "                adata, # adata object\n",
    "                target_gene = [\"Ccr2\"], # KO gene name\n",
    "                target_cell = None, # obsname for cell type, if none use all\n",
    "                obs_label = \"ident\", # colname for genes\n",
    "                GRN_file_dir = \"GRNs\", # folder name for GRNs\n",
    "                rebuild_GRN = True, # whether build GRN by pcNet\n",
    "                pcNet_name = \"so_3000_1000\", # GRN file name\n",
    "                verbose = True, # whether verbose\n",
    "                n_cpus = 8, # multiprocessing\n",
    "                )\n",
    "\n",
    "data_wt = data_wrapper.load_data()\n",
    "data_ko = data_wrapper.load_kodata()\n",
    "\n",
    "# init trainer\n",
    "\n",
    "hyperparams = {\"epochs\": 100, \n",
    "            \"lr\": 7e-4, \n",
    "            \"beta\": 1e-4, \n",
    "            \"seed\": 8096}\n",
    "log_dir=None \n",
    "\n",
    "sensei = VGAE_trainer(data_wt, \n",
    "                    epochs=hyperparams[\"epochs\"], \n",
    "                    lr=hyperparams[\"lr\"], \n",
    "                    log_dir=log_dir, \n",
    "                    beta=hyperparams[\"beta\"],\n",
    "                    seed=hyperparams[\"seed\"],\n",
    "                    verbose=False,\n",
    "                    )\n",
    "print('Initiating Training')\n",
    "sensei.train()\n",
    "\n",
    "# get distance between wt and ko\n",
    "\n",
    "z_mu_wt, z_std_wt = sensei.get_latent_vars(data_wt)\n",
    "z_mu_ko, z_std_ko = sensei.get_latent_vars(data_ko)\n",
    "dis = utils.get_distance(z_mu_ko, z_std_ko, z_mu_wt, z_std_wt, by=\"KL\")\n",
    "print(dis.shape)"
   ]
  },
  {
   "cell_type": "code",
   "execution_count": 5,
   "metadata": {},
   "outputs": [
    {
     "name": "stdout",
     "output_type": "stream",
     "text": [
      "use all the cells (1000) in adata\n",
      "build GRN\n"
     ]
    },
    {
     "name": "stderr",
     "output_type": "stream",
     "text": [
      "2024-03-28 12:43:14,616\tINFO worker.py:1636 -- Started a local Ray instance.\n"
     ]
    },
    {
     "name": "stdout",
     "output_type": "stream",
     "text": [
      "ray init, using 8 CPUs\n",
      "execution time of making pcNet: 119.46 s\n",
      "GRN has been built and saved in \"GRNs\\so_3000_1000.npz\"\n",
      "init completed\n",
      "\n",
      "Initiating Training\n",
      "(730,)\n"
     ]
    },
    {
     "data": {
      "text/html": [
       "<div>\n",
       "<style scoped>\n",
       "    .dataframe tbody tr th:only-of-type {\n",
       "        vertical-align: middle;\n",
       "    }\n",
       "\n",
       "    .dataframe tbody tr th {\n",
       "        vertical-align: top;\n",
       "    }\n",
       "\n",
       "    .dataframe thead th {\n",
       "        text-align: right;\n",
       "    }\n",
       "</style>\n",
       "<table border=\"1\" class=\"dataframe\">\n",
       "  <thead>\n",
       "    <tr style=\"text-align: right;\">\n",
       "      <th></th>\n",
       "      <th>dis</th>\n",
       "      <th>rank</th>\n",
       "    </tr>\n",
       "  </thead>\n",
       "  <tbody>\n",
       "    <tr>\n",
       "      <th>Ccr2</th>\n",
       "      <td>10.099840</td>\n",
       "      <td>1</td>\n",
       "    </tr>\n",
       "    <tr>\n",
       "      <th>Tgfbi</th>\n",
       "      <td>0.171824</td>\n",
       "      <td>2</td>\n",
       "    </tr>\n",
       "    <tr>\n",
       "      <th>Sirpb1c</th>\n",
       "      <td>0.015198</td>\n",
       "      <td>3</td>\n",
       "    </tr>\n",
       "    <tr>\n",
       "      <th>Ms4a6c</th>\n",
       "      <td>0.013861</td>\n",
       "      <td>4</td>\n",
       "    </tr>\n",
       "    <tr>\n",
       "      <th>Sirpb1b</th>\n",
       "      <td>0.006542</td>\n",
       "      <td>5</td>\n",
       "    </tr>\n",
       "    <tr>\n",
       "      <th>Ms4a4c</th>\n",
       "      <td>0.006256</td>\n",
       "      <td>6</td>\n",
       "    </tr>\n",
       "    <tr>\n",
       "      <th>Cd63</th>\n",
       "      <td>0.005267</td>\n",
       "      <td>7</td>\n",
       "    </tr>\n",
       "    <tr>\n",
       "      <th>AA467197</th>\n",
       "      <td>0.004671</td>\n",
       "      <td>8</td>\n",
       "    </tr>\n",
       "    <tr>\n",
       "      <th>Gclm</th>\n",
       "      <td>0.004448</td>\n",
       "      <td>9</td>\n",
       "    </tr>\n",
       "    <tr>\n",
       "      <th>Fdps</th>\n",
       "      <td>0.004429</td>\n",
       "      <td>10</td>\n",
       "    </tr>\n",
       "    <tr>\n",
       "      <th>Ly6i</th>\n",
       "      <td>0.004256</td>\n",
       "      <td>11</td>\n",
       "    </tr>\n",
       "    <tr>\n",
       "      <th>Hsp90b1</th>\n",
       "      <td>0.004189</td>\n",
       "      <td>12</td>\n",
       "    </tr>\n",
       "    <tr>\n",
       "      <th>Napsa</th>\n",
       "      <td>0.004113</td>\n",
       "      <td>13</td>\n",
       "    </tr>\n",
       "    <tr>\n",
       "      <th>Hmgb2</th>\n",
       "      <td>0.004050</td>\n",
       "      <td>14</td>\n",
       "    </tr>\n",
       "    <tr>\n",
       "      <th>Gadd45g</th>\n",
       "      <td>0.003890</td>\n",
       "      <td>15</td>\n",
       "    </tr>\n",
       "    <tr>\n",
       "      <th>Ly86</th>\n",
       "      <td>0.003866</td>\n",
       "      <td>16</td>\n",
       "    </tr>\n",
       "    <tr>\n",
       "      <th>Ramp1</th>\n",
       "      <td>0.003540</td>\n",
       "      <td>17</td>\n",
       "    </tr>\n",
       "    <tr>\n",
       "      <th>Ctsd</th>\n",
       "      <td>0.003368</td>\n",
       "      <td>18</td>\n",
       "    </tr>\n",
       "    <tr>\n",
       "      <th>Id2</th>\n",
       "      <td>0.003316</td>\n",
       "      <td>19</td>\n",
       "    </tr>\n",
       "    <tr>\n",
       "      <th>Mmp14</th>\n",
       "      <td>0.003182</td>\n",
       "      <td>20</td>\n",
       "    </tr>\n",
       "  </tbody>\n",
       "</table>\n",
       "</div>"
      ],
      "text/plain": [
       "                dis  rank\n",
       "Ccr2      10.099840     1\n",
       "Tgfbi      0.171824     2\n",
       "Sirpb1c    0.015198     3\n",
       "Ms4a6c     0.013861     4\n",
       "Sirpb1b    0.006542     5\n",
       "Ms4a4c     0.006256     6\n",
       "Cd63       0.005267     7\n",
       "AA467197   0.004671     8\n",
       "Gclm       0.004448     9\n",
       "Fdps       0.004429    10\n",
       "Ly6i       0.004256    11\n",
       "Hsp90b1    0.004189    12\n",
       "Napsa      0.004113    13\n",
       "Hmgb2      0.004050    14\n",
       "Gadd45g    0.003890    15\n",
       "Ly86       0.003866    16\n",
       "Ramp1      0.003540    17\n",
       "Ctsd       0.003368    18\n",
       "Id2        0.003316    19\n",
       "Mmp14      0.003182    20"
      ]
     },
     "execution_count": 5,
     "metadata": {},
     "output_type": "execute_result"
    }
   ],
   "source": [
    "# raw ranked gene list\n",
    "\n",
    "data_wrapper =  DataLoader(\n",
    "                adata, # adata object\n",
    "                target_gene = [\"Ccr2\"], # KO gene name\n",
    "                target_cell = None, # obsname for cell type, if none use all\n",
    "                obs_label = \"ident\", # colname for genes\n",
    "                GRN_file_dir = \"GRNs\", # folder name for GRNs\n",
    "                rebuild_GRN = True, # whether build GRN by pcNet\n",
    "                pcNet_name = \"so_3000_1000\", # GRN file name\n",
    "                verbose = True, # whether verbose\n",
    "                n_cpus = 8, # multiprocessing\n",
    "                )\n",
    "\n",
    "data_wt = data_wrapper.load_data()\n",
    "data_ko = data_wrapper.load_kodata()\n",
    "\n",
    "# init trainer\n",
    "\n",
    "hyperparams = {\"epochs\": 100, \n",
    "            \"lr\": 7e-4, \n",
    "            \"beta\": 1e-4, \n",
    "            \"seed\": 8096}\n",
    "log_dir=None \n",
    "\n",
    "sensei = VGAE_trainer(data_wt, \n",
    "                    epochs=hyperparams[\"epochs\"], \n",
    "                    lr=hyperparams[\"lr\"], \n",
    "                    log_dir=log_dir, \n",
    "                    beta=hyperparams[\"beta\"],\n",
    "                    seed=hyperparams[\"seed\"],\n",
    "                    verbose=False,\n",
    "                    )\n",
    "print('Initiating Training')\n",
    "sensei.train()\n",
    "\n",
    "# get distance between wt and ko\n",
    "\n",
    "z_mu_wt, z_std_wt = sensei.get_latent_vars(data_wt)\n",
    "z_mu_ko, z_std_ko = sensei.get_latent_vars(data_ko)\n",
    "dis = utils.get_distance(z_mu_ko, z_std_ko, z_mu_wt, z_std_wt, by=\"KL\")\n",
    "print(dis.shape)\n",
    "\n",
    "res_raw = utils.get_generank(data_wt, dis, rank=True)\n",
    "res_raw.to_csv('Results/Bench/GenKI_res_3000_1000.csv')\n",
    "res_raw.head(20)"
   ]
  },
  {
   "cell_type": "markdown",
   "metadata": {},
   "source": [
    "## Load Data - 5000 Genes, 1000 Cells"
   ]
  },
  {
   "cell_type": "code",
   "execution_count": 3,
   "metadata": {},
   "outputs": [
    {
     "name": "stderr",
     "output_type": "stream",
     "text": [
      "c:\\Users\\xenon8778\\Miniconda3\\envs\\ogenki\\lib\\site-packages\\scanpy\\preprocessing\\_normalization.py:197: UserWarning: Some cells have zero counts\n",
      "  warn(UserWarning('Some cells have zero counts'))\n"
     ]
    },
    {
     "data": {
      "text/plain": [
       "AnnData object with n_obs × n_vars = 1000 × 900\n",
       "    obs: 'orig.ident', 'nCount_RNA', 'nFeature_RNA', 'cluster', 'sample', 'percent.mt', 'RNA_snn_res.0.8', 'seurat_clusters', 'celltype', 'Batches'\n",
       "    var: 'vst.mean', 'vst.variance', 'vst.variance.expected', 'vst.variance.standardized', 'vst.variable', 'mean', 'std'\n",
       "    obsm: 'X_pca', 'X_umap'\n",
       "    varm: 'PCs'\n",
       "    layers: 'counts', 'norm'"
      ]
     },
     "execution_count": 3,
     "metadata": {},
     "output_type": "execute_result"
    }
   ],
   "source": [
    "# Read Data\n",
    "adata = sc.read_h5ad('Results/Bench/so_5000_1000.h5ad') \n",
    "adata.layers[\"counts\"] = adata.X\n",
    "sc.pp.normalize_total(adata)\n",
    "adata.layers[\"norm\"] = adata.X\n",
    "sc.pp.scale(adata)\n",
    "adata.X = sparse.csr_matrix(adata.X)\n",
    "adata"
   ]
  },
  {
   "cell_type": "code",
   "execution_count": 4,
   "metadata": {},
   "outputs": [
    {
     "name": "stdout",
     "output_type": "stream",
     "text": [
      "use all the cells (1000) in adata\n",
      "build GRN\n"
     ]
    },
    {
     "name": "stderr",
     "output_type": "stream",
     "text": [
      "2024-03-28 12:53:21,606\tINFO worker.py:1636 -- Started a local Ray instance.\n"
     ]
    },
    {
     "name": "stdout",
     "output_type": "stream",
     "text": [
      "ray init, using 8 CPUs\n",
      "execution time of making pcNet: 205.86 s\n",
      "GRN has been built and saved in \"GRNs\\so_5000_1000.npz\"\n",
      "init completed\n",
      "\n",
      "Initiating Training\n",
      "(900,)\n",
      "use all the cells (1000) in adata\n",
      "build GRN\n"
     ]
    },
    {
     "name": "stderr",
     "output_type": "stream",
     "text": [
      "2024-03-28 12:56:53,849\tINFO worker.py:1636 -- Started a local Ray instance.\n"
     ]
    },
    {
     "name": "stdout",
     "output_type": "stream",
     "text": [
      "ray init, using 8 CPUs\n",
      "execution time of making pcNet: 205.52 s\n",
      "GRN has been built and saved in \"GRNs\\so_5000_1000.npz\"\n",
      "init completed\n",
      "\n",
      "Initiating Training\n",
      "(900,)\n",
      "use all the cells (1000) in adata\n",
      "build GRN\n"
     ]
    },
    {
     "name": "stderr",
     "output_type": "stream",
     "text": [
      "2024-03-28 13:00:26,025\tINFO worker.py:1636 -- Started a local Ray instance.\n"
     ]
    },
    {
     "name": "stdout",
     "output_type": "stream",
     "text": [
      "ray init, using 8 CPUs\n",
      "execution time of making pcNet: 207.61 s\n",
      "GRN has been built and saved in \"GRNs\\so_5000_1000.npz\"\n",
      "init completed\n",
      "\n",
      "Initiating Training\n",
      "(900,)\n",
      "use all the cells (1000) in adata\n",
      "build GRN\n"
     ]
    },
    {
     "name": "stderr",
     "output_type": "stream",
     "text": [
      "2024-03-28 13:04:00,421\tINFO worker.py:1636 -- Started a local Ray instance.\n"
     ]
    },
    {
     "name": "stdout",
     "output_type": "stream",
     "text": [
      "ray init, using 8 CPUs\n",
      "execution time of making pcNet: 206.66 s\n",
      "GRN has been built and saved in \"GRNs\\so_5000_1000.npz\"\n",
      "init completed\n",
      "\n",
      "Initiating Training\n",
      "(900,)\n",
      "use all the cells (1000) in adata\n",
      "build GRN\n"
     ]
    },
    {
     "name": "stderr",
     "output_type": "stream",
     "text": [
      "2024-03-28 13:07:33,332\tINFO worker.py:1636 -- Started a local Ray instance.\n"
     ]
    },
    {
     "name": "stdout",
     "output_type": "stream",
     "text": [
      "ray init, using 8 CPUs\n",
      "execution time of making pcNet: 204.82 s\n",
      "GRN has been built and saved in \"GRNs\\so_5000_1000.npz\"\n",
      "init completed\n",
      "\n",
      "Initiating Training\n",
      "(900,)\n",
      "use all the cells (1000) in adata\n",
      "build GRN\n"
     ]
    },
    {
     "name": "stderr",
     "output_type": "stream",
     "text": [
      "2024-03-28 13:11:04,725\tINFO worker.py:1636 -- Started a local Ray instance.\n"
     ]
    },
    {
     "name": "stdout",
     "output_type": "stream",
     "text": [
      "ray init, using 8 CPUs\n",
      "execution time of making pcNet: 204.47 s\n",
      "GRN has been built and saved in \"GRNs\\so_5000_1000.npz\"\n",
      "init completed\n",
      "\n",
      "Initiating Training\n",
      "(900,)\n",
      "3min 32s ± 1.16 s per loop (mean ± std. dev. of 5 runs, 1 loop each)\n"
     ]
    }
   ],
   "source": [
    "%%timeit -r 5\n",
    "# load data\n",
    "\n",
    "data_wrapper =  DataLoader(\n",
    "                adata, # adata object\n",
    "                target_gene = [\"Ccr2\"], # KO gene name\n",
    "                target_cell = None, # obsname for cell type, if none use all\n",
    "                obs_label = \"ident\", # colname for genes\n",
    "                GRN_file_dir = \"GRNs\", # folder name for GRNs\n",
    "                rebuild_GRN = True, # whether build GRN by pcNet\n",
    "                pcNet_name = \"so_5000_1000\", # GRN file name\n",
    "                verbose = True, # whether verbose\n",
    "                n_cpus = 8, # multiprocessing\n",
    "                )\n",
    "\n",
    "data_wt = data_wrapper.load_data()\n",
    "data_ko = data_wrapper.load_kodata()\n",
    "\n",
    "# init trainer\n",
    "\n",
    "hyperparams = {\"epochs\": 100, \n",
    "            \"lr\": 7e-4, \n",
    "            \"beta\": 1e-4, \n",
    "            \"seed\": 8096}\n",
    "log_dir=None \n",
    "\n",
    "sensei = VGAE_trainer(data_wt, \n",
    "                    epochs=hyperparams[\"epochs\"], \n",
    "                    lr=hyperparams[\"lr\"], \n",
    "                    log_dir=log_dir, \n",
    "                    beta=hyperparams[\"beta\"],\n",
    "                    seed=hyperparams[\"seed\"],\n",
    "                    verbose=False,\n",
    "                    )\n",
    "print('Initiating Training')\n",
    "sensei.train()\n",
    "\n",
    "# get distance between wt and ko\n",
    "\n",
    "z_mu_wt, z_std_wt = sensei.get_latent_vars(data_wt)\n",
    "z_mu_ko, z_std_ko = sensei.get_latent_vars(data_ko)\n",
    "dis = utils.get_distance(z_mu_ko, z_std_ko, z_mu_wt, z_std_wt, by=\"KL\")\n",
    "print(dis.shape)"
   ]
  },
  {
   "cell_type": "code",
   "execution_count": 5,
   "metadata": {},
   "outputs": [
    {
     "name": "stdout",
     "output_type": "stream",
     "text": [
      "use all the cells (1000) in adata\n",
      "build GRN\n"
     ]
    },
    {
     "name": "stderr",
     "output_type": "stream",
     "text": [
      "2024-03-28 13:14:35,839\tINFO worker.py:1636 -- Started a local Ray instance.\n"
     ]
    },
    {
     "name": "stdout",
     "output_type": "stream",
     "text": [
      "ray init, using 8 CPUs\n",
      "execution time of making pcNet: 204.42 s\n",
      "GRN has been built and saved in \"GRNs\\so_5000_1000.npz\"\n",
      "init completed\n",
      "\n",
      "Initiating Training\n",
      "(900,)\n"
     ]
    },
    {
     "data": {
      "text/html": [
       "<div>\n",
       "<style scoped>\n",
       "    .dataframe tbody tr th:only-of-type {\n",
       "        vertical-align: middle;\n",
       "    }\n",
       "\n",
       "    .dataframe tbody tr th {\n",
       "        vertical-align: top;\n",
       "    }\n",
       "\n",
       "    .dataframe thead th {\n",
       "        text-align: right;\n",
       "    }\n",
       "</style>\n",
       "<table border=\"1\" class=\"dataframe\">\n",
       "  <thead>\n",
       "    <tr style=\"text-align: right;\">\n",
       "      <th></th>\n",
       "      <th>dis</th>\n",
       "      <th>rank</th>\n",
       "    </tr>\n",
       "  </thead>\n",
       "  <tbody>\n",
       "    <tr>\n",
       "      <th>Ccr2</th>\n",
       "      <td>1.689432</td>\n",
       "      <td>1</td>\n",
       "    </tr>\n",
       "    <tr>\n",
       "      <th>Lst1</th>\n",
       "      <td>0.000047</td>\n",
       "      <td>2</td>\n",
       "    </tr>\n",
       "    <tr>\n",
       "      <th>Hsp90b1</th>\n",
       "      <td>0.000020</td>\n",
       "      <td>3</td>\n",
       "    </tr>\n",
       "    <tr>\n",
       "      <th>Ly86</th>\n",
       "      <td>0.000018</td>\n",
       "      <td>4</td>\n",
       "    </tr>\n",
       "    <tr>\n",
       "      <th>Ccl2</th>\n",
       "      <td>0.000018</td>\n",
       "      <td>5</td>\n",
       "    </tr>\n",
       "    <tr>\n",
       "      <th>Stab1</th>\n",
       "      <td>0.000018</td>\n",
       "      <td>6</td>\n",
       "    </tr>\n",
       "    <tr>\n",
       "      <th>Tgfbr1</th>\n",
       "      <td>0.000017</td>\n",
       "      <td>7</td>\n",
       "    </tr>\n",
       "    <tr>\n",
       "      <th>Tuba1b</th>\n",
       "      <td>0.000017</td>\n",
       "      <td>8</td>\n",
       "    </tr>\n",
       "    <tr>\n",
       "      <th>Nop56</th>\n",
       "      <td>0.000016</td>\n",
       "      <td>9</td>\n",
       "    </tr>\n",
       "    <tr>\n",
       "      <th>Ccnd2</th>\n",
       "      <td>0.000016</td>\n",
       "      <td>10</td>\n",
       "    </tr>\n",
       "    <tr>\n",
       "      <th>Jund</th>\n",
       "      <td>0.000016</td>\n",
       "      <td>11</td>\n",
       "    </tr>\n",
       "    <tr>\n",
       "      <th>Gsn</th>\n",
       "      <td>0.000015</td>\n",
       "      <td>12</td>\n",
       "    </tr>\n",
       "    <tr>\n",
       "      <th>Sdf2l1</th>\n",
       "      <td>0.000015</td>\n",
       "      <td>13</td>\n",
       "    </tr>\n",
       "    <tr>\n",
       "      <th>Tagln2</th>\n",
       "      <td>0.000015</td>\n",
       "      <td>14</td>\n",
       "    </tr>\n",
       "    <tr>\n",
       "      <th>S100a10</th>\n",
       "      <td>0.000015</td>\n",
       "      <td>15</td>\n",
       "    </tr>\n",
       "    <tr>\n",
       "      <th>Basp1</th>\n",
       "      <td>0.000015</td>\n",
       "      <td>16</td>\n",
       "    </tr>\n",
       "    <tr>\n",
       "      <th>Lilr4b</th>\n",
       "      <td>0.000015</td>\n",
       "      <td>17</td>\n",
       "    </tr>\n",
       "    <tr>\n",
       "      <th>AY036118</th>\n",
       "      <td>0.000015</td>\n",
       "      <td>18</td>\n",
       "    </tr>\n",
       "    <tr>\n",
       "      <th>Metrnl</th>\n",
       "      <td>0.000014</td>\n",
       "      <td>19</td>\n",
       "    </tr>\n",
       "    <tr>\n",
       "      <th>Tmem123</th>\n",
       "      <td>0.000014</td>\n",
       "      <td>20</td>\n",
       "    </tr>\n",
       "  </tbody>\n",
       "</table>\n",
       "</div>"
      ],
      "text/plain": [
       "               dis  rank\n",
       "Ccr2      1.689432     1\n",
       "Lst1      0.000047     2\n",
       "Hsp90b1   0.000020     3\n",
       "Ly86      0.000018     4\n",
       "Ccl2      0.000018     5\n",
       "Stab1     0.000018     6\n",
       "Tgfbr1    0.000017     7\n",
       "Tuba1b    0.000017     8\n",
       "Nop56     0.000016     9\n",
       "Ccnd2     0.000016    10\n",
       "Jund      0.000016    11\n",
       "Gsn       0.000015    12\n",
       "Sdf2l1    0.000015    13\n",
       "Tagln2    0.000015    14\n",
       "S100a10   0.000015    15\n",
       "Basp1     0.000015    16\n",
       "Lilr4b    0.000015    17\n",
       "AY036118  0.000015    18\n",
       "Metrnl    0.000014    19\n",
       "Tmem123   0.000014    20"
      ]
     },
     "execution_count": 5,
     "metadata": {},
     "output_type": "execute_result"
    }
   ],
   "source": [
    "# raw ranked gene list\n",
    "\n",
    "data_wrapper =  DataLoader(\n",
    "                adata, # adata object\n",
    "                target_gene = [\"Ccr2\"], # KO gene name\n",
    "                target_cell = None, # obsname for cell type, if none use all\n",
    "                obs_label = \"ident\", # colname for genes\n",
    "                GRN_file_dir = \"GRNs\", # folder name for GRNs\n",
    "                rebuild_GRN = True, # whether build GRN by pcNet\n",
    "                pcNet_name = \"so_5000_1000\", # GRN file name\n",
    "                verbose = True, # whether verbose\n",
    "                n_cpus = 8, # multiprocessing\n",
    "                )\n",
    "\n",
    "data_wt = data_wrapper.load_data()\n",
    "data_ko = data_wrapper.load_kodata()\n",
    "\n",
    "# init trainer\n",
    "\n",
    "hyperparams = {\"epochs\": 100, \n",
    "            \"lr\": 7e-4, \n",
    "            \"beta\": 1e-4, \n",
    "            \"seed\": 8096}\n",
    "log_dir=None \n",
    "\n",
    "sensei = VGAE_trainer(data_wt, \n",
    "                    epochs=hyperparams[\"epochs\"], \n",
    "                    lr=hyperparams[\"lr\"], \n",
    "                    log_dir=log_dir, \n",
    "                    beta=hyperparams[\"beta\"],\n",
    "                    seed=hyperparams[\"seed\"],\n",
    "                    verbose=False,\n",
    "                    )\n",
    "print('Initiating Training')\n",
    "sensei.train()\n",
    "\n",
    "# get distance between wt and ko\n",
    "\n",
    "z_mu_wt, z_std_wt = sensei.get_latent_vars(data_wt)\n",
    "z_mu_ko, z_std_ko = sensei.get_latent_vars(data_ko)\n",
    "dis = utils.get_distance(z_mu_ko, z_std_ko, z_mu_wt, z_std_wt, by=\"KL\")\n",
    "print(dis.shape)\n",
    "\n",
    "res_raw = utils.get_generank(data_wt, dis, rank=True)\n",
    "res_raw.to_csv('Results/Bench/GenKI_res_5000_1000.csv')\n",
    "res_raw.head(20)"
   ]
  },
  {
   "cell_type": "markdown",
   "metadata": {},
   "source": [
    "## Load Data - 5000 Genes, 3000 Cells"
   ]
  },
  {
   "cell_type": "code",
   "execution_count": 3,
   "metadata": {},
   "outputs": [
    {
     "name": "stderr",
     "output_type": "stream",
     "text": [
      "c:\\Users\\xenon8778\\Documents\\miniconda3\\envs\\ogenki\\lib\\site-packages\\scanpy\\preprocessing\\_normalization.py:234: UserWarning: Some cells have zero counts\n",
      "  warn(UserWarning(\"Some cells have zero counts\"))\n"
     ]
    },
    {
     "data": {
      "text/plain": [
       "AnnData object with n_obs × n_vars = 3000 × 899\n",
       "    obs: 'orig.ident', 'nCount_RNA', 'nFeature_RNA', 'cluster', 'sample', 'percent.mt', 'RNA_snn_res.0.8', 'seurat_clusters', 'celltype', 'Batches'\n",
       "    var: 'vst.mean', 'vst.variance', 'vst.variance.expected', 'vst.variance.standardized', 'vst.variable', 'mean', 'std'\n",
       "    obsm: 'X_pca', 'X_umap'\n",
       "    varm: 'PCs'\n",
       "    layers: 'counts', 'norm'"
      ]
     },
     "execution_count": 3,
     "metadata": {},
     "output_type": "execute_result"
    }
   ],
   "source": [
    "# Read Data\n",
    "adata = sc.read_h5ad('Results/Bench/so_5000_3000.h5ad') \n",
    "adata.layers[\"counts\"] = adata.X\n",
    "sc.pp.normalize_total(adata)\n",
    "adata.layers[\"norm\"] = adata.X\n",
    "sc.pp.scale(adata)\n",
    "adata.X = sparse.csr_matrix(adata.X)\n",
    "adata"
   ]
  },
  {
   "cell_type": "code",
   "execution_count": 4,
   "metadata": {},
   "outputs": [
    {
     "name": "stdout",
     "output_type": "stream",
     "text": [
      "use all the cells (3000) in adata\n",
      "build GRN\n"
     ]
    },
    {
     "name": "stderr",
     "output_type": "stream",
     "text": [
      "2024-12-16 13:01:54,240\tINFO worker.py:1821 -- Started a local Ray instance.\n"
     ]
    },
    {
     "name": "stdout",
     "output_type": "stream",
     "text": [
      "ray init, using 8 CPUs\n",
      "execution time of making pcNet: 869.99 s\n",
      "GRN has been built and saved in \"GRNs\\so_5000_3000.npz\"\n",
      "init completed\n",
      "\n",
      "Initiating Training\n",
      "(899,)\n",
      "use all the cells (3000) in adata\n",
      "build GRN\n"
     ]
    },
    {
     "name": "stderr",
     "output_type": "stream",
     "text": [
      "2024-12-16 13:16:31,790\tINFO worker.py:1821 -- Started a local Ray instance.\n"
     ]
    },
    {
     "name": "stdout",
     "output_type": "stream",
     "text": [
      "ray init, using 8 CPUs\n",
      "execution time of making pcNet: 879.66 s\n",
      "GRN has been built and saved in \"GRNs\\so_5000_3000.npz\"\n",
      "init completed\n",
      "\n",
      "Initiating Training\n",
      "(899,)\n",
      "use all the cells (3000) in adata\n",
      "build GRN\n"
     ]
    },
    {
     "name": "stderr",
     "output_type": "stream",
     "text": [
      "2024-12-16 13:31:16,873\tINFO worker.py:1821 -- Started a local Ray instance.\n"
     ]
    },
    {
     "name": "stdout",
     "output_type": "stream",
     "text": [
      "ray init, using 8 CPUs\n",
      "execution time of making pcNet: 847.88 s\n",
      "GRN has been built and saved in \"GRNs\\so_5000_3000.npz\"\n",
      "init completed\n",
      "\n",
      "Initiating Training\n",
      "(899,)\n",
      "use all the cells (3000) in adata\n",
      "build GRN\n"
     ]
    },
    {
     "name": "stderr",
     "output_type": "stream",
     "text": [
      "2024-12-16 13:45:30,972\tINFO worker.py:1821 -- Started a local Ray instance.\n"
     ]
    },
    {
     "name": "stdout",
     "output_type": "stream",
     "text": [
      "ray init, using 8 CPUs\n",
      "execution time of making pcNet: 842.49 s\n",
      "GRN has been built and saved in \"GRNs\\so_5000_3000.npz\"\n",
      "init completed\n",
      "\n",
      "Initiating Training\n",
      "(899,)\n",
      "use all the cells (3000) in adata\n",
      "build GRN\n"
     ]
    },
    {
     "name": "stderr",
     "output_type": "stream",
     "text": [
      "2024-12-16 13:59:39,751\tINFO worker.py:1821 -- Started a local Ray instance.\n"
     ]
    },
    {
     "name": "stdout",
     "output_type": "stream",
     "text": [
      "ray init, using 8 CPUs\n",
      "execution time of making pcNet: 843.04 s\n",
      "GRN has been built and saved in \"GRNs\\so_5000_3000.npz\"\n",
      "init completed\n",
      "\n",
      "Initiating Training\n",
      "(899,)\n",
      "use all the cells (3000) in adata\n",
      "build GRN\n"
     ]
    },
    {
     "name": "stderr",
     "output_type": "stream",
     "text": [
      "2024-12-16 14:13:49,029\tINFO worker.py:1821 -- Started a local Ray instance.\n"
     ]
    },
    {
     "name": "stdout",
     "output_type": "stream",
     "text": [
      "ray init, using 8 CPUs\n",
      "execution time of making pcNet: 846.27 s\n",
      "GRN has been built and saved in \"GRNs\\so_5000_3000.npz\"\n",
      "init completed\n",
      "\n",
      "Initiating Training\n",
      "(899,)\n",
      "14min 18s ± 14.1 s per loop (mean ± std. dev. of 5 runs, 1 loop each)\n"
     ]
    }
   ],
   "source": [
    "%%timeit -r 5\n",
    "# load data\n",
    "\n",
    "data_wrapper =  DataLoader(\n",
    "                adata, # adata object\n",
    "                target_gene = [\"Ccr2\"], # KO gene name\n",
    "                target_cell = None, # obsname for cell type, if none use all\n",
    "                obs_label = \"ident\", # colname for genes\n",
    "                GRN_file_dir = \"GRNs\", # folder name for GRNs\n",
    "                rebuild_GRN = True, # whether build GRN by pcNet\n",
    "                pcNet_name = \"so_5000_3000\", # GRN file name\n",
    "                verbose = True, # whether verbose\n",
    "                n_cpus = 8, # multiprocessing\n",
    "                )\n",
    "\n",
    "data_wt = data_wrapper.load_data()\n",
    "data_ko = data_wrapper.load_kodata()\n",
    "\n",
    "# init trainer\n",
    "\n",
    "hyperparams = {\"epochs\": 100, \n",
    "            \"lr\": 7e-4, \n",
    "            \"beta\": 1e-4, \n",
    "            \"seed\": 8096}\n",
    "log_dir=None \n",
    "\n",
    "sensei = VGAE_trainer(data_wt, \n",
    "                    epochs=hyperparams[\"epochs\"], \n",
    "                    lr=hyperparams[\"lr\"], \n",
    "                    log_dir=log_dir, \n",
    "                    beta=hyperparams[\"beta\"],\n",
    "                    seed=hyperparams[\"seed\"],\n",
    "                    verbose=False,\n",
    "                    )\n",
    "print('Initiating Training')\n",
    "sensei.train()\n",
    "\n",
    "# get distance between wt and ko\n",
    "\n",
    "z_mu_wt, z_std_wt = sensei.get_latent_vars(data_wt)\n",
    "z_mu_ko, z_std_ko = sensei.get_latent_vars(data_ko)\n",
    "dis = utils.get_distance(z_mu_ko, z_std_ko, z_mu_wt, z_std_wt, by=\"KL\")\n",
    "print(dis.shape)"
   ]
  },
  {
   "cell_type": "code",
   "execution_count": 5,
   "metadata": {},
   "outputs": [
    {
     "name": "stdout",
     "output_type": "stream",
     "text": [
      "use all the cells (3000) in adata\n",
      "build GRN\n"
     ]
    },
    {
     "name": "stderr",
     "output_type": "stream",
     "text": [
      "2024-12-16 14:43:55,621\tINFO worker.py:1821 -- Started a local Ray instance.\n"
     ]
    },
    {
     "name": "stdout",
     "output_type": "stream",
     "text": [
      "ray init, using 8 CPUs\n",
      "execution time of making pcNet: 864.91 s\n",
      "GRN has been built and saved in \"GRNs\\so_5000_1000.npz\"\n",
      "init completed\n",
      "\n",
      "Initiating Training\n",
      "(899,)\n"
     ]
    },
    {
     "data": {
      "text/html": [
       "<div>\n",
       "<style scoped>\n",
       "    .dataframe tbody tr th:only-of-type {\n",
       "        vertical-align: middle;\n",
       "    }\n",
       "\n",
       "    .dataframe tbody tr th {\n",
       "        vertical-align: top;\n",
       "    }\n",
       "\n",
       "    .dataframe thead th {\n",
       "        text-align: right;\n",
       "    }\n",
       "</style>\n",
       "<table border=\"1\" class=\"dataframe\">\n",
       "  <thead>\n",
       "    <tr style=\"text-align: right;\">\n",
       "      <th></th>\n",
       "      <th>dis</th>\n",
       "      <th>rank</th>\n",
       "    </tr>\n",
       "  </thead>\n",
       "  <tbody>\n",
       "    <tr>\n",
       "      <th>Ccr2</th>\n",
       "      <td>1.194158</td>\n",
       "      <td>1</td>\n",
       "    </tr>\n",
       "    <tr>\n",
       "      <th>Ms4a6c</th>\n",
       "      <td>0.000760</td>\n",
       "      <td>2</td>\n",
       "    </tr>\n",
       "    <tr>\n",
       "      <th>Sms</th>\n",
       "      <td>0.000725</td>\n",
       "      <td>3</td>\n",
       "    </tr>\n",
       "    <tr>\n",
       "      <th>Plpp1</th>\n",
       "      <td>0.000725</td>\n",
       "      <td>4</td>\n",
       "    </tr>\n",
       "    <tr>\n",
       "      <th>Basp1</th>\n",
       "      <td>0.000725</td>\n",
       "      <td>5</td>\n",
       "    </tr>\n",
       "    <tr>\n",
       "      <th>Ccl12</th>\n",
       "      <td>0.000723</td>\n",
       "      <td>6</td>\n",
       "    </tr>\n",
       "    <tr>\n",
       "      <th>Hist1h2bc</th>\n",
       "      <td>0.000723</td>\n",
       "      <td>7</td>\n",
       "    </tr>\n",
       "    <tr>\n",
       "      <th>Lag3</th>\n",
       "      <td>0.000723</td>\n",
       "      <td>8</td>\n",
       "    </tr>\n",
       "    <tr>\n",
       "      <th>Trbc2</th>\n",
       "      <td>0.000714</td>\n",
       "      <td>9</td>\n",
       "    </tr>\n",
       "    <tr>\n",
       "      <th>Fscn1</th>\n",
       "      <td>0.000708</td>\n",
       "      <td>10</td>\n",
       "    </tr>\n",
       "    <tr>\n",
       "      <th>Il7r</th>\n",
       "      <td>0.000708</td>\n",
       "      <td>11</td>\n",
       "    </tr>\n",
       "    <tr>\n",
       "      <th>Ltb</th>\n",
       "      <td>0.000708</td>\n",
       "      <td>12</td>\n",
       "    </tr>\n",
       "    <tr>\n",
       "      <th>Pmp22</th>\n",
       "      <td>0.000708</td>\n",
       "      <td>13</td>\n",
       "    </tr>\n",
       "    <tr>\n",
       "      <th>Mgl2</th>\n",
       "      <td>0.000708</td>\n",
       "      <td>14</td>\n",
       "    </tr>\n",
       "    <tr>\n",
       "      <th>Il2ra</th>\n",
       "      <td>0.000708</td>\n",
       "      <td>15</td>\n",
       "    </tr>\n",
       "    <tr>\n",
       "      <th>Lat</th>\n",
       "      <td>0.000708</td>\n",
       "      <td>16</td>\n",
       "    </tr>\n",
       "    <tr>\n",
       "      <th>Vcam1</th>\n",
       "      <td>0.000708</td>\n",
       "      <td>17</td>\n",
       "    </tr>\n",
       "    <tr>\n",
       "      <th>Cox4i2</th>\n",
       "      <td>0.000708</td>\n",
       "      <td>18</td>\n",
       "    </tr>\n",
       "    <tr>\n",
       "      <th>Gimap1</th>\n",
       "      <td>0.000708</td>\n",
       "      <td>19</td>\n",
       "    </tr>\n",
       "    <tr>\n",
       "      <th>Hmgn3</th>\n",
       "      <td>0.000708</td>\n",
       "      <td>20</td>\n",
       "    </tr>\n",
       "  </tbody>\n",
       "</table>\n",
       "</div>"
      ],
      "text/plain": [
       "                dis  rank\n",
       "Ccr2       1.194158     1\n",
       "Ms4a6c     0.000760     2\n",
       "Sms        0.000725     3\n",
       "Plpp1      0.000725     4\n",
       "Basp1      0.000725     5\n",
       "Ccl12      0.000723     6\n",
       "Hist1h2bc  0.000723     7\n",
       "Lag3       0.000723     8\n",
       "Trbc2      0.000714     9\n",
       "Fscn1      0.000708    10\n",
       "Il7r       0.000708    11\n",
       "Ltb        0.000708    12\n",
       "Pmp22      0.000708    13\n",
       "Mgl2       0.000708    14\n",
       "Il2ra      0.000708    15\n",
       "Lat        0.000708    16\n",
       "Vcam1      0.000708    17\n",
       "Cox4i2     0.000708    18\n",
       "Gimap1     0.000708    19\n",
       "Hmgn3      0.000708    20"
      ]
     },
     "execution_count": 5,
     "metadata": {},
     "output_type": "execute_result"
    }
   ],
   "source": [
    "# raw ranked gene list\n",
    "\n",
    "data_wrapper =  DataLoader(\n",
    "                adata, # adata object\n",
    "                target_gene = [\"Ccr2\"], # KO gene name\n",
    "                target_cell = None, # obsname for cell type, if none use all\n",
    "                obs_label = \"ident\", # colname for genes\n",
    "                GRN_file_dir = \"GRNs\", # folder name for GRNs\n",
    "                rebuild_GRN = True, # whether build GRN by pcNet\n",
    "                pcNet_name = \"so_5000_1000\", # GRN file name\n",
    "                verbose = True, # whether verbose\n",
    "                n_cpus = 8, # multiprocessing\n",
    "                )\n",
    "\n",
    "data_wt = data_wrapper.load_data()\n",
    "data_ko = data_wrapper.load_kodata()\n",
    "\n",
    "# init trainer\n",
    "\n",
    "hyperparams = {\"epochs\": 100, \n",
    "            \"lr\": 7e-4, \n",
    "            \"beta\": 1e-4, \n",
    "            \"seed\": 8096}\n",
    "log_dir=None \n",
    "\n",
    "sensei = VGAE_trainer(data_wt, \n",
    "                    epochs=hyperparams[\"epochs\"], \n",
    "                    lr=hyperparams[\"lr\"], \n",
    "                    log_dir=log_dir, \n",
    "                    beta=hyperparams[\"beta\"],\n",
    "                    seed=hyperparams[\"seed\"],\n",
    "                    verbose=False,\n",
    "                    )\n",
    "print('Initiating Training')\n",
    "sensei.train()\n",
    "\n",
    "# get distance between wt and ko\n",
    "\n",
    "z_mu_wt, z_std_wt = sensei.get_latent_vars(data_wt)\n",
    "z_mu_ko, z_std_ko = sensei.get_latent_vars(data_ko)\n",
    "dis = utils.get_distance(z_mu_ko, z_std_ko, z_mu_wt, z_std_wt, by=\"KL\")\n",
    "print(dis.shape)\n",
    "\n",
    "res_raw = utils.get_generank(data_wt, dis, rank=True)\n",
    "res_raw.to_csv('Results/Bench/GenKI_res_5000_3000.csv')\n",
    "res_raw.head(20)"
   ]
  }
 ],
 "metadata": {
  "kernelspec": {
   "display_name": "ogenki",
   "language": "python",
   "name": "python3"
  },
  "language_info": {
   "codemirror_mode": {
    "name": "ipython",
    "version": 3
   },
   "file_extension": ".py",
   "mimetype": "text/x-python",
   "name": "python",
   "nbconvert_exporter": "python",
   "pygments_lexer": "ipython3",
   "version": "3.9.21"
  }
 },
 "nbformat": 4,
 "nbformat_minor": 2
}
